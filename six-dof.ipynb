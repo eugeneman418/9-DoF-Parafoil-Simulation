{
 "cells": [
  {
   "cell_type": "code",
   "execution_count": 6,
   "id": "eb723a7f-67de-4169-b607-235f081b4187",
   "metadata": {},
   "outputs": [],
   "source": [
    "import numpy as np\n",
    "import scipy as sp\n",
    "import matplotlib.pyplot as plt\n",
    "np.random.seed(0)"
   ]
  },
  {
   "cell_type": "code",
   "execution_count": 7,
   "id": "bd3cd84b-4029-47a5-b610-3ae2bed95bdf",
   "metadata": {},
   "outputs": [],
   "source": [
    "def geo_to_body(roll, pitch, yaw):\n",
    "    \"\"\"\n",
    "    geographical to body frame transformation matrix generator\n",
    "    \"\"\"\n",
    "    s_phi = np.sin(roll)\n",
    "    c_phi = np.cos(roll)\n",
    "    s_theta = np.sin(pitch)\n",
    "    c_theta = np.cos(pitch)\n",
    "    s_psi = np.sin(yaw)\n",
    "    c_psi = np.cos(yaw)\n",
    "    return np.array([\n",
    "        [c_psi * c_theta, s_psi * c_theta, -s_theta],\n",
    "        [c_psi * s_theta * s_phi - s_psi * c_phi, s_psi * s_theta * s_phi + c_psi * c_phi, c_theta * s_phi],\n",
    "        [c_psi * s_theta * c_phi + s_psi * s_phi, s_psi * s_theta * c_phi - c_psi * s_phi, c_theta * c_phi],\n",
    "    ])"
   ]
  },
  {
   "cell_type": "code",
   "execution_count": 8,
   "id": "86ea579b-2941-4992-8a97-a63e9518ae76",
   "metadata": {},
   "outputs": [],
   "source": [
    "def body_to_parafoil(rigging):\n",
    "    \"\"\"\n",
    "    Generates the change of frame matrix from body to parafoil frame\n",
    "    rigging: rigging angle mu\n",
    "    \"\"\"\n",
    "    return np.array([\n",
    "        [np.cos(rigging), 0, -np.sin(rigging)],\n",
    "        [0, 1, 0],\n",
    "        [np.sin(rigging), 0, np.cos(rigging)],\n",
    "    ])"
   ]
  },
  {
   "cell_type": "code",
   "execution_count": 9,
   "id": "554fd553-b02c-485a-8dad-c8c90bf9b8c2",
   "metadata": {},
   "outputs": [],
   "source": [
    "def body_to_wind(aoa, aos):\n",
    "    \"\"\"\n",
    "    body to wind frame transformation matrix generator\n",
    "    aoa: angle of attack\n",
    "    aos: angle of sideslip\n",
    "    \"\"\"\n",
    "    s_a = np.sin(aoa)\n",
    "    c_a = np.cos(aoa)\n",
    "    s_b = np.sin(aos)\n",
    "    c_b = np.cos(aos)\n",
    "    return np.array([\n",
    "        [c_a * c_b, -s_b, s_a * c_b],\n",
    "        [c_a * s_b, c_b, s_a * s_b],\n",
    "        [-s_a, 0, c_a],\n",
    "    ])\n",
    "    "
   ]
  },
  {
   "cell_type": "code",
   "execution_count": 10,
   "id": "06b11c33-b128-40fd-8610-4cf857fece84",
   "metadata": {},
   "outputs": [],
   "source": [
    "def geo_to_wind(bank, flight, heading):\n",
    "    \"\"\"\n",
    "    geographical to wind frame transformation matrix generator\n",
    "    bank: bank angle\n",
    "    flight: flight path angle\n",
    "    heading: heading angle\n",
    "    \"\"\"\n",
    "    s_phi = np.sin(bank)\n",
    "    c_phi = np.cos(bank)\n",
    "    s_gamma = np.sin(flight)\n",
    "    c_gamma = np.cos(flight)\n",
    "    s_chi = np.sin(heading)\n",
    "    c_chi = np.cos(heading)\n",
    "    return np.array([\n",
    "        [c_chi * c_gamma, s_chi * c_gamma, -s_gamma],\n",
    "        [c_chi * s_gamma * s_phi - s_chi * c_phi, s_chi * s_gamma * s_phi + c_chi * c_phi, c_gamma * s_phi],\n",
    "        [c_chi * s_gamma * c_phi + s_chi * s_phi, s_chi * s_gamma * c_phi - c_chi * s_phi, c_gamma * c_phi],\n",
    "    ])"
   ]
  },
  {
   "cell_type": "code",
   "execution_count": 11,
   "id": "d699b2f3-216a-4a21-9eb0-e50444231cc0",
   "metadata": {},
   "outputs": [],
   "source": [
    "def airspeed(linear_velocity, angles, wind, return_manitude=True):\n",
    "    \"\"\"\n",
    "    Computes the airspeed vector Va\n",
    "    linear_velocity: 3D vector of the linear veolicty states (u,v,w)\n",
    "    angles: 3D vector of roll, pitch, yaw in body frame\n",
    "    wind: wind velocity vector (3D) in geographical frame\n",
    "    \"\"\"\n",
    "    roll, pitch, yaw = tuple(angles)\n",
    "    if return_manitude:\n",
    "        return np.linalg.norm(linear_velocity - geo_to_body(roll, pitch, yaw) @ wind, ord=2)\n",
    "    else:\n",
    "        return linear_velocity - geo_to_body(roll, pitch, yaw) @ wind"
   ]
  },
  {
   "cell_type": "code",
   "execution_count": 12,
   "id": "51e68be2-6488-42d2-bae2-48dfefd5e979",
   "metadata": {},
   "outputs": [],
   "source": [
    "def dynamic_pressure(airspeed, density):\n",
    "    \"\"\"\n",
    "    Computes the dynamic pressure Q\n",
    "    airspeed: airspeed Va\n",
    "    density: rho\n",
    "    \"\"\"\n",
    "    return density/2 * airspeed**2"
   ]
  },
  {
   "cell_type": "code",
   "execution_count": 13,
   "id": "c6c6acf3-2bdd-4b7f-8d6f-653265f65c6d",
   "metadata": {},
   "outputs": [
    {
     "name": "stdout",
     "output_type": "stream",
     "text": [
      "[-2.43336332 -2.73809936  0.76259742]\n"
     ]
    }
   ],
   "source": [
    "print(geo_to_body(1,2,3) @ np.array([1,2,3]))"
   ]
  },
  {
   "cell_type": "code",
   "execution_count": 14,
   "id": "a6c597d2-7800-40e3-9d7e-2de330599e37",
   "metadata": {},
   "outputs": [],
   "source": [
    "def aerodynamic_force(dynamic_pressure, aoa, aos, surface_area, sym_def, cd, cl, cd_aoa_squared, cl_aoa, cy_aos, cd_sym, cl_sym):\n",
    "    \"\"\"\n",
    "    generate the aerodynamaic force vector in body frame\n",
    "    linear_velocity: 3D vector of the linear veolicty states (u,v,w)\n",
    "    dynamic_pressure: dynamic pressure Q\n",
    "    aoa: angle of attack\n",
    "    aos: angle of sideslip\n",
    "    surface_area: parafoil surfacec area\n",
    "    sym_def: symmetric deflection, (left actuation + right actuation)/2\n",
    "    cd: base drag coefficient\n",
    "    cl: base lift coefficient\n",
    "    cd_aoa_squared: the contribution of aoa^2 on cd\n",
    "    cl_aoa: the contribution of aoa on cl\n",
    "    cy_aos: some contribution of aos on aerodynamic force in Y direction\n",
    "    cd_sym: contribution of symmetric deflection on cd\n",
    "    cl_sym: contribution of symmetric delfection on cl\n",
    "    \"\"\"\n",
    "    q = dynamic_pressure\n",
    "    R = body_to_wind(aoa, aos).T\n",
    "    f = np.array([\n",
    "        cd + cd_aoa_squared * aoa**2 + cd_sym * sym_def,\n",
    "        cy_aos * aos,\n",
    "        cl + cl * aoa + cl_sym * sym_def,\n",
    "    ])\n",
    "    return -q * surface_area * R @ f\n",
    "    "
   ]
  },
  {
   "cell_type": "code",
   "execution_count": 15,
   "id": "53d76ecd-f0db-49f8-8988-4bbabc6aff17",
   "metadata": {},
   "outputs": [
    {
     "name": "stdout",
     "output_type": "stream",
     "text": [
      "[-1018.85858884  1498.76508859 -1620.99854068]\n"
     ]
    }
   ],
   "source": [
    "va = airspeed(np.array([1,1,1]), np.array([np.pi/2,0,0]), np.array([0.1,0.1,0.1]))\n",
    "q = dynamic_pressure(va, 4)\n",
    "F = aerodynamic_force(q,np.pi/8, np.pi/4, 10, 7,16, 4, 8, 2, 1,3,2)\n",
    "print(F)"
   ]
  },
  {
   "cell_type": "code",
   "execution_count": 16,
   "id": "695b974c-0be2-4388-ac4a-de6544e49ebd",
   "metadata": {},
   "outputs": [],
   "source": [
    "def weight_force(angles, mass, g=9.81):\n",
    "    row, pitch, _ = tuple(angles)\n",
    "    s_phi = np.sin(row)\n",
    "    c_phi = np.cos(row)\n",
    "    s_theta = np.sin(pitch)\n",
    "    c_theta = np.cos(pitch)\n",
    "    return mass * g * np.array([-s_phi, c_theta * s_phi, c_theta * c_phi])"
   ]
  },
  {
   "cell_type": "code",
   "execution_count": 17,
   "id": "e4613ada-4d27-46e7-8852-01b5aadd46ae",
   "metadata": {},
   "outputs": [],
   "source": [
    "def aerodynamic_moment(angular_v, dynamic_pressure, surface_area, aoa, aos, airspeed, asym_def, span, chord, cl_aos,  cl_p, cl_r, cl_asym, cm, cm_aoa, cm_q, cn_aos, cn_p, cn_r, cn_asym):\n",
    "    \"\"\"\n",
    "    angular_v: state vectors for angular velocities (p,q,r)\n",
    "    dynamic_pressure: dynamic pressure Q\n",
    "    surface_area: surface area of parafoil\n",
    "    aoa: angle of attack alpha\n",
    "    aos: angle of sideslide beta\n",
    "    airspeed: magnitude of airspeed vector Va\n",
    "    asym_def: asymmetric deflection (right actuation - left actuation)\n",
    "    span: span/length of parafoil b\n",
    "    chord: chord/width c\n",
    "    cl_aos: contribution of aos to aerodynamic moment in l direction\n",
    "    cl_p: contribution of p to aerodynamic moment in l direction\n",
    "    cl_r: contribution of r to aerodynamic moment in l direction\n",
    "    cl_asym: contribution of asym_def to aerodynamic moment in l direction\n",
    "    cm: base aerodynamic moment in m direction\n",
    "    cm_aoa: contribution of aoa to aerodynamic moment in m direction\n",
    "    cm_q: contribution of q to aerodynamic moment in m direction\n",
    "    cn_aos: contribution of aos to aerodynamic moment in n direction\n",
    "    cn_p: contribution of p to aerodynamic moment in n direction\n",
    "    cn_r: contribution of r to aerodynamic moment in n direction\n",
    "    cn_asym: contribution of asym_def to aerodynamic moment in n direction\n",
    "    \"\"\"\n",
    "    p, q, r = tuple(angular_v)    \n",
    "    return  dynamic_pressure * surface_area * np.array([\n",
    "            span * (cl_aos * aos + span/(2 * airspeed) * cl_p * p + span/(2 * airspeed) * cl_r * r + cl_asym * asym_def),\n",
    "            chord * (cm + cm_aoa * aoa + chord/(2 * airspeed) * cm_q * q),\n",
    "            span * (cn_aos * aos + span/(2 * airspeed) * cn_p * p + span/(2 * airspeed) * cn_r * r + cn_asym  * asym_def ),\n",
    "        ])\n"
   ]
  },
  {
   "cell_type": "code",
   "execution_count": 18,
   "id": "90b191a5-e2c0-4612-bec4-3dfbbcaf9a1e",
   "metadata": {},
   "outputs": [
    {
     "name": "stdout",
     "output_type": "stream",
     "text": [
      "[291.24557451 327.65127132 291.24557451]\n"
     ]
    }
   ],
   "source": [
    "angular_v = np.array([1.2,1.2,1.2])\n",
    "va = airspeed(np.array([1,2,3]), np.array([0,0,0]), np.array([0.1 , 0.1, 0.1]))\n",
    "q = dynamic_pressure(va, 1)\n",
    "surface_area = 10\n",
    "asym_def = 1\n",
    "aoa = 1.2\n",
    "aos=0.6\n",
    "span = 2\n",
    "chord = 3\n",
    "cl_aos = 1\n",
    "cl_p = 1\n",
    "cl_r = 1\n",
    "cl_asym = 1\n",
    "cm = 0\n",
    "cm_aoa = 1\n",
    "cm_q =1\n",
    "cn_aos = 1\n",
    "cn_p = 1\n",
    "cn_r = 1\n",
    "cn_asym = 1\n",
    "print(aerodynamic_moment(angular_v, q, surface_area, aoa, aos, va, asym_def, span, chord, cl_aos, cl_p, cl_r, cl_asym, cm, cm_aoa, cm_q, cn_aos, cn_p, cn_r, cn_asym))"
   ]
  },
  {
   "cell_type": "code",
   "execution_count": 19,
   "id": "10d46e9e-3604-40d6-a8eb-b4fac3037dab",
   "metadata": {},
   "outputs": [],
   "source": [
    "def skew_symmetric(vector):\n",
    "    \"\"\"generate skew symmetric matrix from a 3D vector\"\"\"\n",
    "    p,q,r = tuple(vector)\n",
    "    return np.array([\n",
    "        [0, -r, q],\n",
    "        [r, 0, -p],\n",
    "        [-q, p, 0],\n",
    "    ])"
   ]
  },
  {
   "cell_type": "code",
   "execution_count": 20,
   "id": "e47e7a86-c82c-490a-88aa-b56dd80e498a",
   "metadata": {},
   "outputs": [],
   "source": [
    "def inertia(xx, xz, yy, zx, zz):\n",
    "    \"\"\"\n",
    "    generate the moment of inertia matrix\n",
    "    \"\"\"\n",
    "    return np.array([\n",
    "        [xx, 0, xz],\n",
    "        [0, yy, 0],\n",
    "        [zx, 0, zz],\n",
    "    ])"
   ]
  },
  {
   "cell_type": "code",
   "execution_count": 71,
   "id": "64d60cdc-29a4-4302-ab49-8d007c63a8b2",
   "metadata": {},
   "outputs": [],
   "source": [
    "def apparent_mass(arc, span, chord, thickness, density, rigging_angle):\n",
    "    \"\"\"\n",
    "    Generate apparent mass matrix in body frame\n",
    "    \"\"\"\n",
    "    R = body_to_parafoil(rigging_angle)\n",
    "    aspect_ratio = span/chord\n",
    "    arc_span_ratio = arc/span\n",
    "    relative_thickness = thickness/chord\n",
    "    A = 0.666 * density * (1 + 8/3 * arc_span_ratio**2) * thickness**2 * span\n",
    "    B = 0.267 * density * (1 + 2 * (arc_span_ratio * aspect_ratio/relative_thickness)**2 * (1 - relative_thickness**2) ) * thickness**2 * chord\n",
    "    C = 0.785 * density * np.sqrt(1 + 2 * arc_span_ratio**2 * (1 - relative_thickness**2)) * aspect_ratio/(1 + aspect_ratio) * chord**2 * span\n",
    "    return R.T @ np.diag([A, B, C]) @ R"
   ]
  },
  {
   "cell_type": "code",
   "execution_count": 72,
   "id": "23d98e58-033c-4a07-a272-5b0dad195730",
   "metadata": {},
   "outputs": [],
   "source": [
    "def apparent_inertia(arc, span, chord, thickness, density, rigging_angle):\n",
    "    \"\"\"\n",
    "    Generate apparent moment of inertia matrix in body frame\n",
    "    \"\"\"\n",
    "    R = body_to_parafoil(rigging_angle)\n",
    "    aspect_ratio = span/chord\n",
    "    arc_span_ratio = arc/span\n",
    "    relative_thickness = thickness/chord\n",
    "    Ia = 0.055 * density * aspect_ratio/(1 + aspect_ratio) * chord**2 * span**3\n",
    "    Ib = 0.0308 * density * aspect_ratio/(1 + aspect_ratio) * (1 + np.pi/6 * (1 + aspect_ratio) * aspect_ratio * (arc_span_ratio * relative_thickness)**2 ) * chord**4 * span\n",
    "    Ic = 0.0555 * density * (1 + 8 * arc_span_ratio**2) * thickness**2 * span**3\n",
    "    return R.T @ np.diag([Ia, Ib, Ic]) @ R"
   ]
  },
  {
   "cell_type": "code",
   "execution_count": 59,
   "id": "94618af2-3159-49b8-8fea-73e14c39ce87",
   "metadata": {},
   "outputs": [],
   "source": [
    "class EnvironmentParams:\n",
    "    def  __init__(self, wind, density, gravity):\n",
    "        \"\"\"\n",
    "        Stores parameters concerning the environment\n",
    "        wind: wind velocity vector (3D) in geographical frame\n",
    "        density: rho\n",
    "        gravity: graviational constant\n",
    "        \"\"\"\n",
    "        self.wind = wind\n",
    "        self.density = density\n",
    "        self.g = gravity\n",
    "            \n",
    "    def update_wind(self, airspeed):\n",
    "        \"\"\"for now, no stochastic wind models\"\"\"\n",
    "        return self.wind"
   ]
  },
  {
   "cell_type": "code",
   "execution_count": 60,
   "id": "6d7510cd-73c0-4e60-b4c6-19590d4b13a1",
   "metadata": {},
   "outputs": [],
   "source": [
    "class ParafoilParams:\n",
    "    def __init__(self, mass, area, arc, span, chord, thickness, rigging, inertia, line_length, line_angle):\n",
    "        \"\"\"\n",
    "        Stores parameters concerning characteristics of the parafoil\n",
    "        mass: mass of parafoil + payload\n",
    "        area: parafoil surface area\n",
    "        arc: height of parafoil arc\n",
    "        span: span/length of parafoil\n",
    "        chord: chord/width of parafoil\n",
    "        thickness: thickness of parafoil\n",
    "        rigging: rigging angle\n",
    "        inertia: 3x3 inertia matrix\n",
    "        line_length: length of line\n",
    "        line_angle: angle between line and vertical direection\n",
    "        \"\"\"\n",
    "        self.mass = mass\n",
    "        self.surface_area = area\n",
    "        self.arc = arc\n",
    "        self.span = span\n",
    "        self.chord = chord\n",
    "        self.thickness = thickness\n",
    "        self.rigging = rigging\n",
    "        self.inertia = inertia\n",
    "        self.acom = np.array([0,0,-line_length * np.cos(line_angle)])"
   ]
  },
  {
   "cell_type": "code",
   "execution_count": 61,
   "id": "a6a9261f-610d-48d5-a3d2-1f1b70016e4d",
   "metadata": {},
   "outputs": [],
   "source": [
    "class ControlParams:\n",
    "    def __init__(self, l_act, r_act):\n",
    "        \"\"\"\n",
    "        Store parameters concerning motor actuation\n",
    "        l_act: left actuation\n",
    "        r_act: right actuation\n",
    "        \"\"\"\n",
    "        self.sym_def = (l_act+r_act)/2\n",
    "        self.asym_def = r_act - l_act\n",
    "        \n",
    "    def update(self, time):\n",
    "        pass"
   ]
  },
  {
   "cell_type": "code",
   "execution_count": 62,
   "id": "81c8f4b2-71be-4c9f-9e54-4327548bc7f1",
   "metadata": {},
   "outputs": [],
   "source": [
    "class AeroForceCoeffs:\n",
    "    def __init__(self, cd, cl, cd_aoa_squared, cl_aoa, cy_aos, cd_sym, cl_sym):\n",
    "        \"\"\"\n",
    "        Store coefficients relateed to aerodynamic force vector\n",
    "        cd: base drag coefficient\n",
    "        cl: base lift coefficient\n",
    "        cd_aoa_squared: contribution of angle of attack^2 to drag\n",
    "        cl: contribution of angle of attack to lift\n",
    "        cy_aos: contribution of angle of sideslip on y-direection of aerodynamic force\n",
    "        cd_sym: contribution of symmetric deflection to drag\n",
    "        cl_sym: contribution of symmetric defleetion to lift\n",
    "        \"\"\"\n",
    "        self.cd = cd\n",
    "        self.cl = cl\n",
    "        self.cd_aoa_squared = cd_aoa_squared\n",
    "        self.cl_aoa = cl_aoa\n",
    "        self.cy_aos = cy_aos\n",
    "        self.cd_sym = cd_sym\n",
    "        self.cl_sym = cl_sym\n"
   ]
  },
  {
   "cell_type": "code",
   "execution_count": 63,
   "id": "15f2ec9d-6d22-4606-991d-a4b1af624bba",
   "metadata": {},
   "outputs": [],
   "source": [
    "class AeroMomentCoeffs:\n",
    "    def __init__(self, cl_aos,  cl_p, cl_r, cl_asym, cm, cm_aoa, cm_q, cn_aos, cn_p, cn_r, cn_asym):\n",
    "        \"\"\"\n",
    "        Stores coefficient related to aerodynamic moment matrix\n",
    "        cl_aos: contribution of aos to aerodynamic moment in l direction\n",
    "        cl_p: contribution of p to aerodynamic moment in l direction\n",
    "        cl_r: contribution of r to aerodynamic moment in l direction\n",
    "        cl_asym: contribution of asym_def to aerodynamic moment in l direction\n",
    "        cm: base aerodynamic moment in m direction\n",
    "        cm_aoa: contribution of aoa to aerodynamic moment in m direction\n",
    "        cm_q: contribution of q to aerodynamic moment in m direction\n",
    "        cn_aos: contribution of aos to aerodynamic moment in n direction\n",
    "        cn_p: contribution of p to aerodynamic moment in n direction\n",
    "        cn_r: contribution of r to aerodynamic moment in n direction\n",
    "        cn_asym: contribution of asym_def to aerodynamic moment in n direction\n",
    "        \"\"\"\n",
    "        self.cl_aos = cl_aos\n",
    "        self.cl_p = cl_p\n",
    "        self.cl_r = cl_r\n",
    "        self.cl_asym = cl_asym\n",
    "        self.cm = cm\n",
    "        self.cm_aoa = cm_aoa\n",
    "        self.cm_q = cm_q\n",
    "        self.cn_aos = cn_aos\n",
    "        self.cn_p = cn_p\n",
    "        self.cn_r = cn_r\n",
    "        self.cn_asym = cn_asym"
   ]
  },
  {
   "cell_type": "code",
   "execution_count": 64,
   "id": "ae9896e4-3d5f-4957-9891-3f94d1ab4d33",
   "metadata": {},
   "outputs": [],
   "source": [
    "def model_generator(environment_params, parafoil_params, control_params, aeroforce_params, aeromoment_params):\n",
    "    \"\"\"Generates the ode from parameters\"\"\"\n",
    "    def ode(t, states):\n",
    "        u, v, w, p, q, r, x, y, z, roll, pitch, yaw = tuple(states)\n",
    "        \n",
    "        me = 0.09 * environment_params.density * parafoil_params.span * parafoil_params.chord**2 #addeed mass of entrapped air\n",
    "        mass_mat = (parafoil_params.mass + me) * np.eye(3)\n",
    "        Iam = apparent_mass(parafoil_params.arc, parafoil_params.span, parafoil_params.chord, parafoil_params.thickness, environment_params.density, parafoil_params.rigging)\n",
    "        Srbm = skew_symmetric(parafoil_params.acom)\n",
    "        I = parafoil_params.inertia\n",
    "        Iai = apparent_inertia(parafoil_params.arc, parafoil_params.span, parafoil_params.chord, parafoil_params.thickness, environment_params.density, parafoil_params.rigging)\n",
    "        Sw = skew_symmetric(np.array([p,q,r]))\n",
    "        Va = airspeed(np.array([u,v,w]), np.array([roll, pitch, yaw]), environment_params.wind)\n",
    "        \n",
    "        vx, vy, vz = tuple(airspeed(np.array([u,v,w]), np.array([roll, pitch, yaw]), environment_params.wind, return_manitude=False))\n",
    "        aoa = np.arctan2(vz,vx)\n",
    "        aos = np.arctan2(vy, np.sqrt(vx**2+vz**2))\n",
    "        \n",
    "        Q = dynamic_pressure(Va, environment_params.density)\n",
    "        Fa = aerodynamic_force(Q, aoa, aos, \n",
    "                               parafoil_params.surface_area, control_params.sym_def, \n",
    "                               aeroforce_params.cd, aeroforce_params.cl, aeroforce_params.cd_aoa_squared, \n",
    "                               aeroforce_params.cl_aoa, aeroforce_params.cy_aos, \n",
    "                               aeroforce_params.cd_sym, aeroforce_params.cl_sym)\n",
    "        Fg = weight_force(np.array([roll, pitch, yaw]), parafoil_params.mass, environment_params.g)\n",
    "        Rbg = geo_to_body(roll, pitch, yaw)\n",
    "        Ma = aerodynamic_moment(np.array([p,q,r]), Q, \n",
    "                                parafoil_params.surface_area, aoa, \n",
    "                                aos, Va, \n",
    "                                control_params.asym_def, parafoil_params.span, \n",
    "                                parafoil_params.chord, aeromoment_params.cl_aos,\n",
    "                                aeromoment_params.cl_p, aeromoment_params.cl_r, \n",
    "                                aeromoment_params.cl_asym, aeromoment_params.cm, \n",
    "                                aeromoment_params.cm_aoa, aeromoment_params.cm_q, \n",
    "                                aeromoment_params.cn_aos, aeromoment_params.cn_p, \n",
    "                                aeromoment_params.cn_r, aeromoment_params.cn_asym)\n",
    "        \n",
    "        A1 = mass_mat + Iam\n",
    "        A2 = -Iam @ Srbm\n",
    "        A3 = Srbm @ Iam\n",
    "        A4 = I + Iai - Srbm @ Iam @ Srbm\n",
    "        A = np.block([[A1, A2], [A3, A4]])\n",
    "        Ainv = np.linalg.inv(A)\n",
    "        \n",
    "        C1 = -Sw @ (mass_mat + Iam)\n",
    "        C2 = Sw @ Iam @ Srbm\n",
    "        C3 = -Srbm @ Sw @ Iam\n",
    "        C4 = -(Sw @ (I + Iai) - Srbm  @ Sw @ Iam @ Srbm )\n",
    "        C = np.block([[C1,C2],[C3,C4]])\n",
    "\n",
    "        k1 = Fa + Fg + Sw @ Iam @ Rbg @ environment_params.wind\n",
    "        k2 = Ma + Srbm @ Sw @ Iam @ Rbg @ environment_params.wind\n",
    "        k = np.concatenate((k1,k2))\n",
    "\n",
    "        R1 = Rbg.T\n",
    "        R2 = np.array([\n",
    "            [1, np.sin(roll) * np.tan(pitch), np.cos(roll) * np.tan(pitch)],\n",
    "            [0, np.cos(roll), -np.sin(roll)],\n",
    "            [0, np.sin(roll)/np.cos(pitch), np.cos(roll)/np.cos(pitch)],\n",
    "        ])\n",
    "        R = np.block([[R1, np.zeros((3,3))], [np.zeros((3,3)), R2]])\n",
    "        return np.block([[Ainv, np.zeros((6,6))], [np.zeros((6,6)), np.eye(6)]]) @ ( np.block([[C, np.zeros((6,6))], [R, np.zeros((6,6))]]) @ states + np.concatenate((k, np.zeros(6))))\n",
    "    return ode"
   ]
  },
  {
   "cell_type": "code",
   "execution_count": 65,
   "id": "e1edd265-3f2b-421e-9733-4a508ff432e9",
   "metadata": {},
   "outputs": [],
   "source": [
    "environment_params = EnvironmentParams(np.array([0,0,0]), 5.43, 1.352)\n",
    "parafoil_params = ParafoilParams(200, 3.144, 0.25, 3.072, 1.023, 0.164, 0, inertia(1,1,1,1,1), 1.843, 0)\n",
    "control_params = ControlParams(100,0)\n",
    "aeroforce_params = AeroForceCoeffs(0.25, 0.091, 0.12, 0.9, -0.23, 0.1, 0.15)\n",
    "aeromoment_params = AeroMomentCoeffs(-0.0036,  -0.84, -0.082, -0.0035, 0.35, -0.72, -1.49, -0.0015, -0.082, -0.27, 0.0115)"
   ]
  },
  {
   "cell_type": "code",
   "execution_count": 66,
   "id": "c307eda9-888c-445b-8a8e-38c05f165495",
   "metadata": {},
   "outputs": [],
   "source": [
    "ode = model_generator(environment_params, parafoil_params, control_params, aeroforce_params, aeromoment_params)"
   ]
  },
  {
   "cell_type": "code",
   "execution_count": 67,
   "id": "31317295-efcb-41af-99d3-e22a633276f9",
   "metadata": {},
   "outputs": [
    {
     "name": "stdout",
     "output_type": "stream",
     "text": [
      "3.144\n"
     ]
    }
   ],
   "source": [
    "print(parafoil_params.surface_area)\n",
    "init_states = np.array([10,0,3,0,0,0,0,0,40000,0,0,0])\n",
    "tspan = [0,90]\n",
    "results = sp.integrate.solve_ivp(ode, tspan, init_states)"
   ]
  },
  {
   "cell_type": "code",
   "execution_count": 68,
   "id": "c9bb553c-0465-4dd1-a14e-f06851d9e4ea",
   "metadata": {},
   "outputs": [
    {
     "name": "stdout",
     "output_type": "stream",
     "text": [
      "(3, 795)\n"
     ]
    }
   ],
   "source": [
    "path = results.y[-6:-3,:]\n",
    "print(path.shape)"
   ]
  },
  {
   "cell_type": "code",
   "execution_count": 69,
   "id": "b1b776ab-0f4c-4a3c-82d9-16e3b53eda83",
   "metadata": {},
   "outputs": [
    {
     "data": {
      "image/png": "[encoded data removed]",
      "text/plain": [
       "<Figure size 640x480 with 1 Axes>"
      ]
     },
     "metadata": {},
     "output_type": "display_data"
    }
   ],
   "source": [
    "ax = plt.figure().add_subplot(projection='3d')\n",
    "\n",
    "# Prepare arrays x, y, z\n",
    "theta = np.linspace(-4 * np.pi, 4 * np.pi, 100)\n",
    "x,y,z = path[0,:], path[1,:], path[2,:]\n",
    "\n",
    "\n",
    "ax.plot(x, y, z, label='flight path')\n",
    "ax.legend()\n",
    "\n",
    "plt.show()"
   ]
  },
  {
   "cell_type": "code",
   "execution_count": 70,
   "id": "5d83a08a-4420-4696-a4f9-c4b4fe7126a4",
   "metadata": {},
   "outputs": [
    {
     "data": {
      "image/png": "[encoded data removed]",
      "text/plain": [
       "<Figure size 640x480 with 1 Axes>"
      ]
     },
     "metadata": {},
     "output_type": "display_data"
    }
   ],
   "source": [
    "t = np.linspace(0,90,num = len(z))\n",
    "plt.title(\"t vs z\")\n",
    "plt.plot(t,  z)\n",
    "plt.show()"
   ]
  },
  {
   "cell_type": "code",
   "execution_count": null,
   "id": "39321cff-ba72-4d50-8019-a92e56f81eb1",
   "metadata": {},
   "outputs": [],
   "source": []
  },
  {
   "cell_type": "code",
   "execution_count": null,
   "id": "984d705f-6219-4863-8789-d2e022b3df48",
   "metadata": {},
   "outputs": [],
   "source": []
  }
 ],
 "metadata": {
  "kernelspec": {
   "display_name": "Python 3 (ipykernel)",
   "language": "python",
   "name": "python3"
  },
  "language_info": {
   "codemirror_mode": {
    "name": "ipython",
    "version": 3
   },
   "file_extension": ".py",
   "mimetype": "text/x-python",
   "name": "python",
   "nbconvert_exporter": "python",
   "pygments_lexer": "ipython3",
   "version": "3.11.4"
  }
 },
 "nbformat": 4,
 "nbformat_minor": 5
}
